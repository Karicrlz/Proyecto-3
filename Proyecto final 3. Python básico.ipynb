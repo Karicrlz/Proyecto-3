{
 "cells": [
  {
   "cell_type": "markdown",
   "metadata": {},
   "source": [
    "¡Hola!\n",
    "\n",
    "Mi nombre es Tonatiuh Cruz. Me complace revisar tu proyecto hoy.\n",
    "\n",
    "Al identificar cualquier error inicialmente, simplemente los destacaré. Te animo a localizar y abordar los problemas de forma independiente como parte de tu preparación para un rol como data-scientist. En un entorno profesional, tu líder de equipo seguiría un enfoque similar. Si encuentras la tarea desafiante, proporcionaré una pista más específica en la próxima iteración.\n",
    "\n",
    "Encontrarás mis comentarios a continuación - **por favor no los muevas, modifiques o elimines**.\n",
    "\n",
    "Puedes encontrar mis comentarios en cajas verdes, amarillas o rojas como esta:\n",
    "\n",
    "<div class=\"alert alert-block alert-success\">\n",
    "<b>Comentario del revisor</b> <a class=\"tocSkip\"></a>\n",
    "\n",
    "Éxito. Todo está hecho correctamente.\n",
    "</div>\n",
    "\n",
    "<div class=\"alert alert-block alert-warning\">\n",
    "<b>Comentario del revisor</b> <a class=\"tocSkip\"></a>\n",
    "\n",
    "Observaciones. Algunas recomendaciones.\n",
    "</div>\n",
    "\n",
    "<div class=\"alert alert-block alert-danger\">\n",
    "<b>Comentario del revisor</b> <a class=\"tocSkip\"></a>\n",
    "\n",
    "Necesita corrección. El bloque requiere algunas correcciones. El trabajo no puede ser aceptado con comentarios en rojo.\n",
    "</div>\n",
    "\n",
    "Puedes responderme utilizando esto:\n",
    "\n",
    "<div class=\"alert alert-block alert-info\">\n",
    "<b>Respuesta del estudiante.</b> <a class=\"tocSkip\"></a>\n",
    "</div>"
   ]
  },
  {
   "cell_type": "markdown",
   "metadata": {
    "id": "E0vqbgi9ay0H"
   },
   "source": [
    "# Déjame escuchar la música"
   ]
  },
  {
   "cell_type": "markdown",
   "metadata": {
    "id": "fhq_eyov_Zcs"
   },
   "source": [
    "# Contenido <a id='back'></a>\n",
    "\n",
    "* [Introducción](#intro)\n",
    "* [Etapa 1. Descripción de los datos](#data_review)\n",
    "    * [Conclusiones](#data_review_conclusions)\n",
    "* [Etapa 2. Preprocesamiento de datos](#data_preprocessing)\n",
    "    * [2.1 Estilo del encabezado](#header_style)\n",
    "    * [2.2 Valores ausentes](#missing_values)\n",
    "    * [2.3 Duplicados](#duplicates)\n",
    "    * [2.4 Conclusiones](#data_preprocessing_conclusions)\n",
    "* [Etapa 3. Prueba de hipótesis](#hypothesis)\n",
    "    * [3.1 Hipótesis 1: actividad de los usuarios y las usuarias en las dos ciudades](#activity)\n",
    "* [Conclusiones](#end)"
   ]
  },
  {
   "cell_type": "markdown",
   "metadata": {},
   "source": [
    "<div class=\"alert alert-block alert-warning\">\n",
    "<b>Comentario del revisor</b> <a class=\"tocSkip\"></a>\n",
    "\n",
    "La tabla de contenidos está bien estructurada, pero sería útil si estuviera enlazada a las secciones correspondientes, de manera que al hacer clic se pueda acceder directamente a cada una. Esto facilitaría la navegación.\n",
    "\n",
    "Un consejo útil: si etiquetas correctamente todas las secciones con sus respectivos números (#), puedes generar automáticamente la tabla de contenidos desde Jupyter Lab. Simplemente ve a la pestaña de herramientas y haz clic en el botón de los puntos y barras (Table of contents). Esto te generará una tabla de contenidos enlazada y visualmente atractiva. El botón está ubicado a la derecha del botón \"Validate\".\n",
    "</div>"
   ]
  },
  {
   "cell_type": "markdown",
   "metadata": {
    "id": "VUC88oWjTJw2"
   },
   "source": [
    "## Introducción <a id='intro'></a>\n",
    "Como analista de datos, tu trabajo consiste en analizar datos para extraer información valiosa y tomar decisiones basadas en ellos. Esto implica diferentes etapas, como la descripción general de los datos, el preprocesamiento y la prueba de hipótesis.\n",
    "\n",
    "Siempre que investigamos, necesitamos formular hipótesis que después podamos probar. A veces aceptamos estas hipótesis; otras veces, las rechazamos. Para tomar las decisiones correctas, una empresa debe ser capaz de entender si está haciendo las suposiciones correctas.\n",
    "\n",
    "En este proyecto, compararás las preferencias musicales de las ciudades de Springfield y Shelbyville. Estudiarás datos reales de transmisión de música online para probar la hipótesis a continuación y comparar el comportamiento de los usuarios y las usuarias de estas dos ciudades.\n",
    "\n",
    "### Objetivo:\n",
    "Prueba la hipótesis:\n",
    "1. La actividad de los usuarios y las usuarias difiere según el día de la semana y dependiendo de la ciudad.\n",
    "\n",
    "\n",
    "### Etapas\n",
    "Los datos del comportamiento del usuario se almacenan en el archivo `/datasets/music_project_en.csv`. No hay ninguna información sobre la calidad de los datos, así que necesitarás examinarlos antes de probar la hipótesis.\n",
    "\n",
    "Primero, evaluarás la calidad de los datos y verás si los problemas son significativos. Entonces, durante el preprocesamiento de datos, tomarás en cuenta los problemas más críticos.\n",
    "\n",
    "Tu proyecto consistirá en tres etapas:\n",
    " 1. Descripción de los datos.\n",
    " 2. Preprocesamiento de datos.\n",
    " 3. Prueba de hipótesis.\n",
    "\n",
    "\n",
    "\n",
    "\n",
    "\n",
    "\n"
   ]
  },
  {
   "cell_type": "markdown",
   "metadata": {},
   "source": [
    "<div class=\"alert alert-block alert-success\">\n",
    "<b>Comentario del revisor</b> <a class=\"tocSkip\"></a>\n",
    "\n",
    "¡Hola! Excelente trabajo que has hecho al desarrollar la introducción. Esto es crucial para cualquier proyecto, ya que establece una guía clara sobre los pasos a seguir. Tener estos elementos bien definidos desde el principio nos permite trabajar de manera más organizada y eficiente. En un futuro lo podrías complementar con una tabla de contenido.\n",
    "</div>"
   ]
  },
  {
   "cell_type": "markdown",
   "metadata": {
    "id": "hDt6pg-Rw-1U"
   },
   "source": [
    "[Volver a Contenidos](#back)"
   ]
  },
  {
   "cell_type": "markdown",
   "metadata": {
    "id": "Ml1hmfXC_Zcs"
   },
   "source": [
    "## Etapa 1. Descripción de los datos <a id='data_review'></a>\n",
    "\n",
    "Abre los datos y examínalos."
   ]
  },
  {
   "cell_type": "markdown",
   "metadata": {
    "id": "57eAOGIz_Zcs"
   },
   "source": [
    "Necesitarás `pandas`, así que impórtalo."
   ]
  },
  {
   "cell_type": "code",
   "execution_count": 1,
   "metadata": {
    "id": "AXN7PHPN_Zcs"
   },
   "outputs": [],
   "source": [
    "import pandas as pd # Importar pandas\n"
   ]
  },
  {
   "cell_type": "markdown",
   "metadata": {
    "id": "SG23P8tt_Zcs"
   },
   "source": [
    "Lee el archivo `music_project_en.csv` de la carpeta `/datasets/` y guárdalo en la variable `df`:"
   ]
  },
  {
   "cell_type": "code",
   "execution_count": 2,
   "metadata": {
    "id": "fFVu7vqh_Zct"
   },
   "outputs": [],
   "source": [
    "df = pd.read_csv(\"/datasets/music_project_en.csv\")# Leer el archivo y almacenarlo en df\n"
   ]
  },
  {
   "cell_type": "markdown",
   "metadata": {},
   "source": [
    "<div class=\"alert alert-block alert-success\">\n",
    "<b>Comentario del revisor:</b> <a class=\"tocSkip\"></a>\n",
    "    \n",
    "Has realizado un excelente trabajo al importar los datos y las bibliotecas necesarias.\n",
    "\n",
    "</div>"
   ]
  },
  {
   "cell_type": "markdown",
   "metadata": {
    "id": "rDoOMd3uTqnZ"
   },
   "source": [
    "Muestra las 10 primeras filas de la tabla:"
   ]
  },
  {
   "cell_type": "code",
   "execution_count": 29,
   "metadata": {
    "id": "oWTVX3gW_Zct"
   },
   "outputs": [
    {
     "data": {
      "text/html": [
       "<div>\n",
       "<style scoped>\n",
       "    .dataframe tbody tr th:only-of-type {\n",
       "        vertical-align: middle;\n",
       "    }\n",
       "\n",
       "    .dataframe tbody tr th {\n",
       "        vertical-align: top;\n",
       "    }\n",
       "\n",
       "    .dataframe thead th {\n",
       "        text-align: right;\n",
       "    }\n",
       "</style>\n",
       "<table border=\"1\" class=\"dataframe\">\n",
       "  <thead>\n",
       "    <tr style=\"text-align: right;\">\n",
       "      <th></th>\n",
       "      <th>user_id</th>\n",
       "      <th>track</th>\n",
       "      <th>artist</th>\n",
       "      <th>genre</th>\n",
       "      <th>city</th>\n",
       "      <th>time</th>\n",
       "      <th>day</th>\n",
       "    </tr>\n",
       "  </thead>\n",
       "  <tbody>\n",
       "    <tr>\n",
       "      <th>0</th>\n",
       "      <td>FFB692EC</td>\n",
       "      <td>Kamigata To Boots</td>\n",
       "      <td>The Mass Missile</td>\n",
       "      <td>rock</td>\n",
       "      <td>Shelbyville</td>\n",
       "      <td>20:28:33</td>\n",
       "      <td>Wednesday</td>\n",
       "    </tr>\n",
       "    <tr>\n",
       "      <th>1</th>\n",
       "      <td>55204538</td>\n",
       "      <td>Delayed Because of Accident</td>\n",
       "      <td>Andreas Rönnberg</td>\n",
       "      <td>rock</td>\n",
       "      <td>Springfield</td>\n",
       "      <td>14:07:09</td>\n",
       "      <td>Friday</td>\n",
       "    </tr>\n",
       "    <tr>\n",
       "      <th>2</th>\n",
       "      <td>20EC38</td>\n",
       "      <td>Funiculì funiculà</td>\n",
       "      <td>Mario Lanza</td>\n",
       "      <td>pop</td>\n",
       "      <td>Shelbyville</td>\n",
       "      <td>20:58:07</td>\n",
       "      <td>Wednesday</td>\n",
       "    </tr>\n",
       "    <tr>\n",
       "      <th>3</th>\n",
       "      <td>A3DD03C9</td>\n",
       "      <td>Dragons in the Sunset</td>\n",
       "      <td>Fire + Ice</td>\n",
       "      <td>folk</td>\n",
       "      <td>Shelbyville</td>\n",
       "      <td>08:37:09</td>\n",
       "      <td>Monday</td>\n",
       "    </tr>\n",
       "    <tr>\n",
       "      <th>4</th>\n",
       "      <td>E2DC1FAE</td>\n",
       "      <td>Soul People</td>\n",
       "      <td>Space Echo</td>\n",
       "      <td>dance</td>\n",
       "      <td>Springfield</td>\n",
       "      <td>08:34:34</td>\n",
       "      <td>Monday</td>\n",
       "    </tr>\n",
       "    <tr>\n",
       "      <th>5</th>\n",
       "      <td>842029A1</td>\n",
       "      <td>Chains</td>\n",
       "      <td>Obladaet</td>\n",
       "      <td>rusrap</td>\n",
       "      <td>Shelbyville</td>\n",
       "      <td>13:09:41</td>\n",
       "      <td>Friday</td>\n",
       "    </tr>\n",
       "    <tr>\n",
       "      <th>6</th>\n",
       "      <td>4CB90AA5</td>\n",
       "      <td>True</td>\n",
       "      <td>Roman Messer</td>\n",
       "      <td>dance</td>\n",
       "      <td>Springfield</td>\n",
       "      <td>13:00:07</td>\n",
       "      <td>Wednesday</td>\n",
       "    </tr>\n",
       "    <tr>\n",
       "      <th>7</th>\n",
       "      <td>F03E1C1F</td>\n",
       "      <td>Feeling This Way</td>\n",
       "      <td>Polina Griffith</td>\n",
       "      <td>dance</td>\n",
       "      <td>Springfield</td>\n",
       "      <td>20:47:49</td>\n",
       "      <td>Wednesday</td>\n",
       "    </tr>\n",
       "    <tr>\n",
       "      <th>8</th>\n",
       "      <td>8FA1D3BE</td>\n",
       "      <td>L’estate</td>\n",
       "      <td>Julia Dalia</td>\n",
       "      <td>ruspop</td>\n",
       "      <td>Springfield</td>\n",
       "      <td>09:17:40</td>\n",
       "      <td>Friday</td>\n",
       "    </tr>\n",
       "    <tr>\n",
       "      <th>9</th>\n",
       "      <td>E772D5C0</td>\n",
       "      <td>Pessimist</td>\n",
       "      <td>unknown</td>\n",
       "      <td>dance</td>\n",
       "      <td>Shelbyville</td>\n",
       "      <td>21:20:49</td>\n",
       "      <td>Wednesday</td>\n",
       "    </tr>\n",
       "  </tbody>\n",
       "</table>\n",
       "</div>"
      ],
      "text/plain": [
       "    user_id                        track            artist   genre  \\\n",
       "0  FFB692EC            Kamigata To Boots  The Mass Missile    rock   \n",
       "1  55204538  Delayed Because of Accident  Andreas Rönnberg    rock   \n",
       "2    20EC38            Funiculì funiculà       Mario Lanza     pop   \n",
       "3  A3DD03C9        Dragons in the Sunset        Fire + Ice    folk   \n",
       "4  E2DC1FAE                  Soul People        Space Echo   dance   \n",
       "5  842029A1                       Chains          Obladaet  rusrap   \n",
       "6  4CB90AA5                         True      Roman Messer   dance   \n",
       "7  F03E1C1F             Feeling This Way   Polina Griffith   dance   \n",
       "8  8FA1D3BE                     L’estate       Julia Dalia  ruspop   \n",
       "9  E772D5C0                    Pessimist           unknown   dance   \n",
       "\n",
       "          city      time        day  \n",
       "0  Shelbyville  20:28:33  Wednesday  \n",
       "1  Springfield  14:07:09     Friday  \n",
       "2  Shelbyville  20:58:07  Wednesday  \n",
       "3  Shelbyville  08:37:09     Monday  \n",
       "4  Springfield  08:34:34     Monday  \n",
       "5  Shelbyville  13:09:41     Friday  \n",
       "6  Springfield  13:00:07  Wednesday  \n",
       "7  Springfield  20:47:49  Wednesday  \n",
       "8  Springfield  09:17:40     Friday  \n",
       "9  Shelbyville  21:20:49  Wednesday  "
      ]
     },
     "execution_count": 29,
     "metadata": {},
     "output_type": "execute_result"
    }
   ],
   "source": [
    "(df.head(10))# Obtener las 10 primeras filas de la tabla df\n"
   ]
  },
  {
   "cell_type": "markdown",
   "metadata": {
    "id": "EO73Kwic_Zct"
   },
   "source": [
    "Obtén la información general sobre la tabla con un comando. Conoces el método que muestra la información general que necesitamos."
   ]
  },
  {
   "cell_type": "code",
   "execution_count": 30,
   "metadata": {
    "id": "DSf2kIb-_Zct"
   },
   "outputs": [
    {
     "name": "stdout",
     "output_type": "stream",
     "text": [
      "<class 'pandas.core.frame.DataFrame'>\n",
      "Int64Index: 61253 entries, 0 to 65078\n",
      "Data columns (total 7 columns):\n",
      " #   Column   Non-Null Count  Dtype \n",
      "---  ------   --------------  ----- \n",
      " 0   user_id  61253 non-null  object\n",
      " 1   track    61253 non-null  object\n",
      " 2   artist   61253 non-null  object\n",
      " 3   genre    61253 non-null  object\n",
      " 4   city     61253 non-null  object\n",
      " 5   time     61253 non-null  object\n",
      " 6   day      61253 non-null  object\n",
      "dtypes: object(7)\n",
      "memory usage: 3.7+ MB\n"
     ]
    }
   ],
   "source": [
    "(df.info())# Obtener la información general sobre nuestros datos\n"
   ]
  },
  {
   "cell_type": "markdown",
   "metadata": {
    "id": "TaQ2Iwbr_Zct"
   },
   "source": [
    "Estas son nuestras observaciones sobre la tabla. Contiene siete columnas. Almacenan los mismos tipos de datos: `object`.\n",
    "\n",
    "Según la documentación:\n",
    "- `' userID'`: identificador del usuario o la usuaria;\n",
    "- `'Track'`: título de la canción;\n",
    "- `'artist'`: nombre del artista;\n",
    "- `'genre'`: género de la pista;\n",
    "- `'City'`: ciudad del usuario o la usuaria;\n",
    "- `'time'`: la hora exacta en la que se reprodujo la canción;\n",
    "- `'Day'`: día de la semana.\n",
    "\n",
    "Podemos ver tres problemas con el estilo en los encabezados de la tabla:\n",
    "1. Algunos encabezados están en mayúsculas, otros en minúsculas.\n",
    "2. Hay espacios en algunos encabezados.\n",
    "3. `Detecta el tercer problema por tu cuenta y descríbelo aquí`#Se recomienda que los nombres de las columnas esten todas en minusculas y la categoria 'userID' iría separada con un guíon bajo, siguiendo el snake_case.\n",
    "\n",
    "\n"
   ]
  },
  {
   "cell_type": "markdown",
   "metadata": {
    "id": "MCB6-dXG_Zct"
   },
   "source": [
    "### Escribe observaciones de tu parte. Estas son algunas de las preguntas que pueden ser útiles: <a id='data_review_conclusions'></a>\n",
    "\n",
    "`1.   ¿Qué tipo de datos tenemos a nuestra disposición en las filas? ¿Y cómo podemos entender lo que almacenan las columnas?`\n",
    "\n",
    "`2.   ¿Hay suficientes datos para proporcionar respuestas a nuestra hipótesis o necesitamos más información?`\n",
    "\n",
    "`3.   ¿Notaste algún problema en los datos, como valores ausentes, duplicados o tipos de datos incorrectos?`"
   ]
  },
  {
   "cell_type": "markdown",
   "metadata": {
    "id": "3eL__vcwViOi"
   },
   "source": [
    "[Volver a Contenidos](#back)"
   ]
  },
  {
   "cell_type": "markdown",
   "metadata": {},
   "source": [
    "1. Como se observa en la tabla de información, los datos que tenemos en las filas son de tipo 'object', ahí mismo nos indica la información de las columnas, la primera columna de esta tabla tiene un índice que nos porporciona el numero de columnas que hay; 7. También nos indica los nombres de cada columna, seguidamente se encuentra la cantidad de valores no nulos que tiene cada una de estas. \n",
    "\n",
    "2.Hay suficientes datos para poder llevar a cabo las operaciones necesarias para conocer las respuestas de nuestra hipotesis. \n",
    "\n",
    "3. A simple vista, lo que nos dejan ver las primeras 10 filas es que hay datos ausentes en la columna de 'Artist', ¿Habrá más cosas? "
   ]
  },
  {
   "cell_type": "markdown",
   "metadata": {},
   "source": [
    "<div class=\"alert alert-block alert-success\">\n",
    "<b>Comentario del revisor</b> <a class=\"tocSkip\"></a>\n",
    "\n",
    "Muy buen trabajo! Excelentes observaciones de tu parte. </div>"
   ]
  },
  {
   "cell_type": "markdown",
   "metadata": {
    "id": "SjYF6Ub9_Zct"
   },
   "source": [
    "## Etapa 2. Preprocesamiento de datos <a id='data_preprocessing'></a>\n",
    "\n",
    "El objetivo aquí es preparar los datos para que sean analizados.\n",
    "El primer paso es resolver cualquier problema con los encabezados. Luego podemos avanzar a los valores ausentes y duplicados. Empecemos.\n",
    "\n",
    "Corrige el formato en los encabezados de la tabla.\n"
   ]
  },
  {
   "cell_type": "markdown",
   "metadata": {
    "id": "dIaKXr29_Zct"
   },
   "source": [
    "### Estilo del encabezado <a id='header_style'></a>\n",
    "Muestra los encabezados de la tabla (los nombres de las columnas):"
   ]
  },
  {
   "cell_type": "code",
   "execution_count": 5,
   "metadata": {
    "id": "oKOTdF_Q_Zct"
   },
   "outputs": [
    {
     "name": "stdout",
     "output_type": "stream",
     "text": [
      "Index(['  userID', 'Track', 'artist', 'genre', '  City  ', 'time', 'Day'], dtype='object')\n"
     ]
    }
   ],
   "source": [
    "print(df.columns)# Muestra los nombres de las columnas\n"
   ]
  },
  {
   "cell_type": "markdown",
   "metadata": {
    "id": "zj5534cv_Zct"
   },
   "source": [
    "Cambia los encabezados de la tabla de acuerdo con las reglas del buen estilo:\n",
    "* Todos los caracteres deben ser minúsculas.\n",
    "* Elimina los espacios.\n",
    "* Si el nombre tiene varias palabras, utiliza snake_case."
   ]
  },
  {
   "cell_type": "markdown",
   "metadata": {
    "id": "Xu0zkfe5zNJe"
   },
   "source": [
    "Anteriormente, aprendiste acerca de la forma automática de cambiar el nombre de las columnas. Vamos a aplicarla ahora. Utiliza el bucle for para iterar sobre los nombres de las columnas y poner todos los caracteres en minúsculas. Cuando hayas terminado, vuelve a mostrar los encabezados de la tabla:"
   ]
  },
  {
   "cell_type": "code",
   "execution_count": 6,
   "metadata": {
    "id": "6I_RwwMhzM4e"
   },
   "outputs": [],
   "source": [
    "new_names=[]\n",
    "for old in df:\n",
    "    strips = old.strip()\n",
    "    lower = strips.lower() \n",
    "    names_correct = lower.replace(' ','_')\n",
    "    new_names.append(names_correct)\n",
    "    \n",
    "df.columns=new_names# Bucle en los encabezados poniendo todo en minúsculas\n"
   ]
  },
  {
   "cell_type": "markdown",
   "metadata": {},
   "source": [
    "<div class=\"alert alert-block alert-success\">\n",
    "<b>Comentario del revisor</b> <a class=\"tocSkip\"></a>\n",
    "\n",
    "Gran trabajo en hacer uso de un ciclo for para aplicar la función lower() en todas las columnas d ela base</div>"
   ]
  },
  {
   "cell_type": "markdown",
   "metadata": {
    "id": "pweIRxjSzPYW"
   },
   "source": [
    "Ahora, utilizando el mismo método, elimina los espacios al principio y al final de los nombres de las columnas e imprime los nombres de las columnas nuevamente:"
   ]
  },
  {
   "cell_type": "code",
   "execution_count": 7,
   "metadata": {
    "id": "vVQXbFyJzSYl"
   },
   "outputs": [],
   "source": [
    "# Bucle en los encabezados eliminando los espacios\n"
   ]
  },
  {
   "cell_type": "markdown",
   "metadata": {
    "id": "yCb8MW1JzURd"
   },
   "source": [
    "Necesitamos aplicar la regla de snake_case a la columna `userid`. Debe ser `user_id`. Cambia el nombre de esta columna y muestra los nombres de todas las columnas cuando hayas terminado."
   ]
  },
  {
   "cell_type": "code",
   "execution_count": 8,
   "metadata": {
    "id": "ISlFqs5y_Zct"
   },
   "outputs": [],
   "source": [
    "new_name = {'userid':'user_id'}\n",
    "\n",
    "df = df.rename (columns = new_name)\n",
    "\n",
    "# Cambiar el nombre de la columna \"userid\"\n"
   ]
  },
  {
   "cell_type": "markdown",
   "metadata": {
    "id": "1dqbh00J_Zct"
   },
   "source": [
    "Comprueba el resultado. Muestra los encabezados una vez más:"
   ]
  },
  {
   "cell_type": "code",
   "execution_count": 9,
   "metadata": {},
   "outputs": [
    {
     "name": "stdout",
     "output_type": "stream",
     "text": [
      "Index(['user_id', 'track', 'artist', 'genre', 'city', 'time', 'day'], dtype='object')\n"
     ]
    }
   ],
   "source": [
    "print(df.columns)# Comprobar el resultado: la lista de encabezados"
   ]
  },
  {
   "cell_type": "markdown",
   "metadata": {},
   "source": [
    "<div class=\"alert alert-block alert-success\">\n",
    "<b>Comentario del revisor</b> <a class=\"tocSkip\"></a>\n",
    "\n",
    "Muy buen trabajo! Ajustaste todos los elementos</div>"
   ]
  },
  {
   "cell_type": "markdown",
   "metadata": {
    "id": "xYJk6ksJVpOl"
   },
   "source": [
    "[Volver a Contenidos](#back)"
   ]
  },
  {
   "cell_type": "markdown",
   "metadata": {
    "id": "5ISfbcfY_Zct"
   },
   "source": [
    "### Valores ausentes <a id='missing_values'></a>\n",
    " Primero, encuentra el número de valores ausentes en la tabla. Debes utilizar dos métodos en una secuencia para obtener el número de valores ausentes."
   ]
  },
  {
   "cell_type": "code",
   "execution_count": 32,
   "metadata": {
    "id": "RskX29qr_Zct"
   },
   "outputs": [
    {
     "name": "stdout",
     "output_type": "stream",
     "text": [
      "user_id    0\n",
      "track      0\n",
      "artist     0\n",
      "genre      0\n",
      "city       0\n",
      "time       0\n",
      "day        0\n",
      "dtype: int64\n"
     ]
    }
   ],
   "source": [
    "print(df.isna().sum())# Calcular el número de valores ausentes\n"
   ]
  },
  {
   "cell_type": "markdown",
   "metadata": {
    "id": "qubhgnlO_Zct"
   },
   "source": [
    "No todos los valores ausentes afectan a la investigación. Por ejemplo, los valores ausentes en `track` y `artist` no son cruciales. Simplemente puedes reemplazarlos con valores predeterminados como el string `'unknown'` (desconocido).\n",
    "\n",
    "Pero los valores ausentes en `'genre'` pueden afectar la comparación entre las preferencias musicales de Springfield y Shelbyville. En la vida real, sería útil saber las razones por las cuales hay datos ausentes e intentar recuperarlos. Pero no tenemos esa oportunidad en este proyecto. Así que tendrás que:\n",
    "* rellenar estos valores ausentes con un valor predeterminado;\n",
    "* evaluar cuánto podrían afectar los valores ausentes a tus cómputos;"
   ]
  },
  {
   "cell_type": "markdown",
   "metadata": {
    "id": "fSv2laPA_Zct"
   },
   "source": [
    "Reemplazar los valores ausentes en las columnas `'track'`, `'artist'` y `'genre'` con el string `'unknown'`. Como mostramos anteriormente en las lecciones, la mejor forma de hacerlo es crear una lista que almacene los nombres de las columnas donde se necesita el reemplazo. Luego, utiliza esta lista e itera sobre las columnas donde se necesita el reemplazo haciendo el propio reemplazo."
   ]
  },
  {
   "cell_type": "code",
   "execution_count": 11,
   "metadata": {
    "id": "KplB5qWs_Zct"
   },
   "outputs": [],
   "source": [
    "names_to_replace = ['track','artist','genre']\n",
    "\n",
    "for column in names_to_replace:\n",
    "    df[column].fillna ('unknown', inplace=True)# Bucle en los encabezados reemplazando los valores ausentes con 'unknown'\n"
   ]
  },
  {
   "cell_type": "markdown",
   "metadata": {
    "id": "Ilsm-MZo_Zct"
   },
   "source": [
    "Ahora comprueba el resultado para asegurarte de que después del reemplazo no haya valores ausentes en el conjunto de datos. Para hacer esto, cuenta los valores ausentes nuevamente."
   ]
  },
  {
   "cell_type": "code",
   "execution_count": 12,
   "metadata": {
    "id": "Tq4nYRX4_Zct"
   },
   "outputs": [
    {
     "name": "stdout",
     "output_type": "stream",
     "text": [
      "user_id    0\n",
      "track      0\n",
      "artist     0\n",
      "genre      0\n",
      "city       0\n",
      "time       0\n",
      "day        0\n",
      "dtype: int64\n"
     ]
    }
   ],
   "source": [
    "print(df.isna().sum())# Contar valores ausentes"
   ]
  },
  {
   "cell_type": "markdown",
   "metadata": {},
   "source": [
    "<div class=\"alert alert-block alert-success\">\n",
    "<b>Comentario del revisor</b> <a class=\"tocSkip\"></a>\n",
    "\n",
    "Muy buen trabajo! Ajustaste todos los elementos con valores ausentes y los cambiaste con una etiqueta \"unkown\" que nos permite identificarlos</div>"
   ]
  },
  {
   "cell_type": "markdown",
   "metadata": {
    "id": "74ZIBmq9VrsK"
   },
   "source": [
    "[Volver a Contenidos](#back)"
   ]
  },
  {
   "cell_type": "markdown",
   "metadata": {
    "id": "BWKRtBJ3_Zct"
   },
   "source": [
    "### Duplicados <a id='duplicates'></a>\n",
    "Encuentra el número de duplicados explícitos en la tabla. Una vez más, debes aplicar dos métodos en una secuencia para obtener la cantidad de duplicados explícitos."
   ]
  },
  {
   "cell_type": "code",
   "execution_count": 13,
   "metadata": {
    "id": "36eES_S0_Zct"
   },
   "outputs": [
    {
     "name": "stdout",
     "output_type": "stream",
     "text": [
      "3826\n"
     ]
    }
   ],
   "source": [
    "print(df.duplicated().sum())# Contar duplicados explícitos\n"
   ]
  },
  {
   "cell_type": "markdown",
   "metadata": {
    "id": "Ot25h6XR_Zct"
   },
   "source": [
    "Ahora, elimina todos los duplicados. Para ello, llama al método que hace exactamente esto."
   ]
  },
  {
   "cell_type": "code",
   "execution_count": 14,
   "metadata": {
    "id": "exFHq6tt_Zct"
   },
   "outputs": [],
   "source": [
    "df = df.drop_duplicates() # Eliminar duplicados explícitos\n"
   ]
  },
  {
   "cell_type": "markdown",
   "metadata": {
    "id": "Im2YwBEG_Zct"
   },
   "source": [
    "Comprobemos ahora si eliminamos con éxito todos los duplicados. Cuenta los duplicados explícitos una vez más para asegurarte de haberlos eliminado todos:"
   ]
  },
  {
   "cell_type": "code",
   "execution_count": 15,
   "metadata": {
    "id": "-8PuNWQ0_Zct"
   },
   "outputs": [
    {
     "name": "stdout",
     "output_type": "stream",
     "text": [
      "0\n"
     ]
    }
   ],
   "source": [
    "print(df.duplicated().sum())# Comprobar de nuevo si hay duplicados\n",
    "\n"
   ]
  },
  {
   "cell_type": "markdown",
   "metadata": {
    "id": "QlFBsxAr_Zct"
   },
   "source": [
    "Ahora queremos deshacernos de los duplicados implícitos en la columna `genre`. Por ejemplo, el nombre de un género se puede escribir de varias formas. Dichos errores también pueden afectar al resultado."
   ]
  },
  {
   "cell_type": "markdown",
   "metadata": {
    "id": "eSjWwsOh_Zct"
   },
   "source": [
    "Para hacerlo, primero mostremos una lista de nombres de género únicos, ordenados en orden alfabético. Para ello:\n",
    "* Extrae la columna `genre` del DataFrame.\n",
    "* Llama al método que devolverá todos los valores únicos en la columna extraída.\n"
   ]
  },
  {
   "cell_type": "code",
   "execution_count": 16,
   "metadata": {
    "id": "JIUcqzZN_Zct"
   },
   "outputs": [
    {
     "name": "stdout",
     "output_type": "stream",
     "text": [
      "['acid' 'acoustic' 'action' 'adult' 'africa' 'afrikaans' 'alternative'\n",
      " 'ambient' 'americana' 'animated' 'anime' 'arabesk' 'arabic' 'arena'\n",
      " 'argentinetango' 'art' 'audiobook' 'avantgarde' 'axé' 'baile' 'balkan'\n",
      " 'beats' 'bigroom' 'black' 'bluegrass' 'blues' 'bollywood' 'bossa'\n",
      " 'brazilian' 'breakbeat' 'breaks' 'broadway' 'cantautori' 'cantopop'\n",
      " 'canzone' 'caribbean' 'caucasian' 'celtic' 'chamber' 'children' 'chill'\n",
      " 'chinese' 'choral' 'christian' 'christmas' 'classical' 'classicmetal'\n",
      " 'club' 'colombian' 'comedy' 'conjazz' 'contemporary' 'country' 'cuban'\n",
      " 'dance' 'dancehall' 'dancepop' 'dark' 'death' 'deep' 'deutschrock'\n",
      " 'deutschspr' 'dirty' 'disco' 'dnb' 'documentary' 'downbeat' 'downtempo'\n",
      " 'drum' 'dub' 'dubstep' 'eastern' 'easy' 'electronic' 'electropop' 'emo'\n",
      " 'entehno' 'epicmetal' 'estrada' 'ethnic' 'eurofolk' 'european'\n",
      " 'experimental' 'extrememetal' 'fado' 'film' 'fitness' 'flamenco' 'folk'\n",
      " 'folklore' 'folkmetal' 'folkrock' 'folktronica' 'forró' 'frankreich'\n",
      " 'französisch' 'french' 'funk' 'future' 'gangsta' 'garage' 'german'\n",
      " 'ghazal' 'gitarre' 'glitch' 'gospel' 'gothic' 'grime' 'grunge' 'gypsy'\n",
      " 'handsup' \"hard'n'heavy\" 'hardcore' 'hardstyle' 'hardtechno' 'hip'\n",
      " 'hip-hop' 'hiphop' 'historisch' 'holiday' 'hop' 'horror' 'house' 'idm'\n",
      " 'independent' 'indian' 'indie' 'indipop' 'industrial' 'inspirational'\n",
      " 'instrumental' 'international' 'irish' 'jam' 'japanese' 'jazz' 'jewish'\n",
      " 'jpop' 'jungle' 'k-pop' 'karadeniz' 'karaoke' 'kayokyoku' 'korean'\n",
      " 'laiko' 'latin' 'latino' 'leftfield' 'local' 'lounge' 'loungeelectronic'\n",
      " 'lovers' 'malaysian' 'mandopop' 'marschmusik' 'meditative'\n",
      " 'mediterranean' 'melodic' 'metal' 'metalcore' 'mexican' 'middle'\n",
      " 'minimal' 'miscellaneous' 'modern' 'mood' 'mpb' 'muslim' 'native'\n",
      " 'neoklassik' 'neue' 'new' 'newage' 'newwave' 'nu' 'nujazz' 'numetal'\n",
      " 'oceania' 'old' 'opera' 'orchestral' 'other' 'piano' 'pop'\n",
      " 'popelectronic' 'popeurodance' 'post' 'posthardcore' 'postrock' 'power'\n",
      " 'progmetal' 'progressive' 'psychedelic' 'punjabi' 'punk' 'quebecois'\n",
      " 'ragga' 'ram' 'rancheras' 'rap' 'rave' 'reggae' 'reggaeton' 'regional'\n",
      " 'relax' 'religious' 'retro' 'rhythm' 'rnb' 'rnr' 'rock' 'rockabilly'\n",
      " 'romance' 'roots' 'ruspop' 'rusrap' 'rusrock' 'salsa' 'samba' 'schlager'\n",
      " 'self' 'sertanejo' 'shoegazing' 'showtunes' 'singer' 'ska' 'slow'\n",
      " 'smooth' 'soul' 'soulful' 'sound' 'soundtrack' 'southern' 'specialty'\n",
      " 'speech' 'spiritual' 'sport' 'stonerrock' 'surf' 'swing' 'synthpop'\n",
      " 'sängerportrait' 'tango' 'tanzorchester' 'taraftar' 'tech' 'techno'\n",
      " 'thrash' 'top' 'traditional' 'tradjazz' 'trance' 'tribal' 'trip'\n",
      " 'triphop' 'tropical' 'türk' 'türkçe' 'unknown' 'urban' 'uzbek' 'variété'\n",
      " 'vi' 'videogame' 'vocal' 'western' 'world' 'worldbeat' 'ïîï']\n",
      "269\n"
     ]
    }
   ],
   "source": [
    "print(df['genre'].sort_values().unique())\n",
    "print(df['genre'].nunique())# Inspeccionar los nombres de géneros únicos\n"
   ]
  },
  {
   "cell_type": "markdown",
   "metadata": {
    "id": "qej-Qmuo_Zct"
   },
   "source": [
    "Busca en la lista para encontrar duplicados implícitos del género `hiphop`. Estos pueden ser nombres escritos incorrectamente o nombres alternativos para el mismo género.\n",
    "\n",
    "Verás los siguientes duplicados implícitos:\n",
    "* `hip`\n",
    "* `hop`\n",
    "* `hip-hop`\n",
    "\n",
    "Para deshacerte de ellos, crea una función llamada `replace_wrong_genres()` con dos parámetros:\n",
    "* `wrong_genres=`: esta es una lista que contiene todos los valores que necesitas reemplazar.\n",
    "* `correct_genre=`: este es un string que vas a utilizar como reemplazo.\n",
    "\n",
    "Como resultado, la función debería corregir los nombres en la columna `'genre'` de la tabla `df`, es decir, remplazar cada valor de la lista `wrong_genres` por el valor en `correct_genre`.\n",
    "\n",
    "Dentro del cuerpo de la función, utiliza un bucle `'for'` para iterar sobre la lista de géneros incorrectos, extrae la columna `'genre'` y aplica el método `replace` para hacer correcciones."
   ]
  },
  {
   "cell_type": "code",
   "execution_count": 17,
   "metadata": {
    "id": "ErNDkmns_Zct"
   },
   "outputs": [],
   "source": [
    "def replace_wrong_genres(df, columns,wrong_genres, correct_genre):\n",
    "    for wrong in wrong_genres: \n",
    "        df['genre'] = df['genre'].replace(wrong, correct_genre) \n",
    "    return df# Función para reemplazar duplicados implícitos\n",
    "\n",
    "duplicates = ['hip','hop','hip-hop']\n",
    "correct ='hiphop'\n"
   ]
  },
  {
   "cell_type": "markdown",
   "metadata": {},
   "source": [
    "<div class=\"alert alert-block alert-success\">\n",
    "<b>Comentario del revisor</b> <a class=\"tocSkip\"></a>\n",
    "\n",
    "Excelente trabajo con la función. Con esto nos permitira reemplazar los registros duplicados con los valores que coloquemos dentro del arguneto de la función</div>"
   ]
  },
  {
   "cell_type": "markdown",
   "metadata": {
    "id": "aDoBJxbA_Zct"
   },
   "source": [
    "Ahora, llama a `replace_wrong_genres()` y pásale tales argumentos para que retire los duplicados implícitos (`hip`, `hop` y `hip-hop`) y los reemplace por `hiphop`:"
   ]
  },
  {
   "cell_type": "code",
   "execution_count": 18,
   "metadata": {
    "id": "YN5i2hpmSo09"
   },
   "outputs": [],
   "source": [
    "df = replace_wrong_genres ( df,'genre',duplicates, correct)\n",
    " # Eliminar duplicados implícitos\n"
   ]
  },
  {
   "cell_type": "markdown",
   "metadata": {
    "id": "zQKF16_RG15m"
   },
   "source": [
    "Asegúrate de que los nombres duplicados han sido eliminados. Muestra la lista de valores únicos de la columna `'genre'` una vez más:"
   ]
  },
  {
   "cell_type": "code",
   "execution_count": 19,
   "metadata": {
    "id": "wvixALnFG15m"
   },
   "outputs": [
    {
     "name": "stdout",
     "output_type": "stream",
     "text": [
      "['acid' 'acoustic' 'action' 'adult' 'africa' 'afrikaans' 'alternative'\n",
      " 'ambient' 'americana' 'animated' 'anime' 'arabesk' 'arabic' 'arena'\n",
      " 'argentinetango' 'art' 'audiobook' 'avantgarde' 'axé' 'baile' 'balkan'\n",
      " 'beats' 'bigroom' 'black' 'bluegrass' 'blues' 'bollywood' 'bossa'\n",
      " 'brazilian' 'breakbeat' 'breaks' 'broadway' 'cantautori' 'cantopop'\n",
      " 'canzone' 'caribbean' 'caucasian' 'celtic' 'chamber' 'children' 'chill'\n",
      " 'chinese' 'choral' 'christian' 'christmas' 'classical' 'classicmetal'\n",
      " 'club' 'colombian' 'comedy' 'conjazz' 'contemporary' 'country' 'cuban'\n",
      " 'dance' 'dancehall' 'dancepop' 'dark' 'death' 'deep' 'deutschrock'\n",
      " 'deutschspr' 'dirty' 'disco' 'dnb' 'documentary' 'downbeat' 'downtempo'\n",
      " 'drum' 'dub' 'dubstep' 'eastern' 'easy' 'electronic' 'electropop' 'emo'\n",
      " 'entehno' 'epicmetal' 'estrada' 'ethnic' 'eurofolk' 'european'\n",
      " 'experimental' 'extrememetal' 'fado' 'film' 'fitness' 'flamenco' 'folk'\n",
      " 'folklore' 'folkmetal' 'folkrock' 'folktronica' 'forró' 'frankreich'\n",
      " 'französisch' 'french' 'funk' 'future' 'gangsta' 'garage' 'german'\n",
      " 'ghazal' 'gitarre' 'glitch' 'gospel' 'gothic' 'grime' 'grunge' 'gypsy'\n",
      " 'handsup' \"hard'n'heavy\" 'hardcore' 'hardstyle' 'hardtechno' 'hiphop'\n",
      " 'historisch' 'holiday' 'horror' 'house' 'idm' 'independent' 'indian'\n",
      " 'indie' 'indipop' 'industrial' 'inspirational' 'instrumental'\n",
      " 'international' 'irish' 'jam' 'japanese' 'jazz' 'jewish' 'jpop' 'jungle'\n",
      " 'k-pop' 'karadeniz' 'karaoke' 'kayokyoku' 'korean' 'laiko' 'latin'\n",
      " 'latino' 'leftfield' 'local' 'lounge' 'loungeelectronic' 'lovers'\n",
      " 'malaysian' 'mandopop' 'marschmusik' 'meditative' 'mediterranean'\n",
      " 'melodic' 'metal' 'metalcore' 'mexican' 'middle' 'minimal'\n",
      " 'miscellaneous' 'modern' 'mood' 'mpb' 'muslim' 'native' 'neoklassik'\n",
      " 'neue' 'new' 'newage' 'newwave' 'nu' 'nujazz' 'numetal' 'oceania' 'old'\n",
      " 'opera' 'orchestral' 'other' 'piano' 'pop' 'popelectronic' 'popeurodance'\n",
      " 'post' 'posthardcore' 'postrock' 'power' 'progmetal' 'progressive'\n",
      " 'psychedelic' 'punjabi' 'punk' 'quebecois' 'ragga' 'ram' 'rancheras'\n",
      " 'rap' 'rave' 'reggae' 'reggaeton' 'regional' 'relax' 'religious' 'retro'\n",
      " 'rhythm' 'rnb' 'rnr' 'rock' 'rockabilly' 'romance' 'roots' 'ruspop'\n",
      " 'rusrap' 'rusrock' 'salsa' 'samba' 'schlager' 'self' 'sertanejo'\n",
      " 'shoegazing' 'showtunes' 'singer' 'ska' 'slow' 'smooth' 'soul' 'soulful'\n",
      " 'sound' 'soundtrack' 'southern' 'specialty' 'speech' 'spiritual' 'sport'\n",
      " 'stonerrock' 'surf' 'swing' 'synthpop' 'sängerportrait' 'tango'\n",
      " 'tanzorchester' 'taraftar' 'tech' 'techno' 'thrash' 'top' 'traditional'\n",
      " 'tradjazz' 'trance' 'tribal' 'trip' 'triphop' 'tropical' 'türk' 'türkçe'\n",
      " 'unknown' 'urban' 'uzbek' 'variété' 'vi' 'videogame' 'vocal' 'western'\n",
      " 'world' 'worldbeat' 'ïîï']\n",
      "266\n"
     ]
    }
   ],
   "source": [
    "print(df['genre'].sort_values().unique())\n",
    "print(df['genre'].nunique())# Comprobación de duplicados implícitos\n"
   ]
  },
  {
   "cell_type": "markdown",
   "metadata": {},
   "source": [
    "<div class=\"alert alert-block alert-success\">\n",
    "<b>Comentario del revisor</b> <a class=\"tocSkip\"></a>\n",
    "\n",
    "Muy buen trabajo! Remplazaste los generos incorrectos y eliminaste los duplicados.</div>"
   ]
  },
  {
   "cell_type": "markdown",
   "metadata": {
    "id": "ALgNbvF3VtPA"
   },
   "source": [
    "[Volver a Contenidos](#back)"
   ]
  },
  {
   "cell_type": "markdown",
   "metadata": {
    "id": "jz6a9-7HQUDd"
   },
   "source": [
    "### Tus observaciones <a id='data_preprocessing_conclusions'></a>\n",
    "\n",
    "`Describe brevemente lo que has notado al analizar duplicados, cómo abordaste sus eliminaciones y qué resultados obtuviste.`"
   ]
  },
  {
   "cell_type": "markdown",
   "metadata": {},
   "source": [
    "Para analizar los valores duplicados comenzamos por tratar los valores explicitos, aquellos que en sus filas eran exactamente iguales y posteriormente continuamos con los implicitos, para este segundo caso, no todos los valores duplicados crean problemas al realizar los análisis de datos, por lo que unicamente nos enfocamos en los que si eran perjudiciales; en la columna *genero*. \n",
    "\n",
    "Para el caso de los explicitos, se pidio la funcion de duplicados y su numero en total; **print(df.duplicated().sum())**, el cual nos mostro la cantidad de duplicados que se encontraban en el dataframe (siendo un total de 3826 duplicados), para borrarlos, solo fue necesario llamar la función **df.drop_duplicates()** y por ultimo se comprobo con la función inicialmente usada para saber si la eliminación de duplicados había quedado lista, la cual resulto en 0, lo que nos confirma que lo requerido fue concretado. \n",
    "\n",
    "En el caso de los valores duplicados implicitos fue más complejo, de igual manera se necesitaba conocer el número de valores y cuáles eran, por lo que se utilizó la función **unique ()** para mostrar los valores existentes en la columna, para facilitar y detectar los duplicados, al mismo tiempo la función **sort_value** fue llamada, para ordenar los valores alfabeticamente. Se empleo la función **nunique** para conocer la cantidad de valores que hay indistintamente si son duplicados o no. Posteriormente al detectar los duplicados, se creo una función que busca cambiar todos los nombres incorrectos por el correcto, así que también se señalaron cuales eran eso nombres incorrectos y como debían llamarse, implementandolos en un bucle **for** para realizar estos cambios cada vez que se encuentre el error, para así automatizar la correción de los nombres. Para determinar si se obtuvo resultado en el procesamiento de los duplicados, rehicimos los primeros pasos de conocer el número de valores y cuáles eran, los que debieron disminuir según la lista original. "
   ]
  },
  {
   "cell_type": "markdown",
   "metadata": {
    "id": "WttZHXH0SqKk"
   },
   "source": [
    "## Etapa 3. Prueba de hipótesis <a id='hypothesis'></a>"
   ]
  },
  {
   "cell_type": "markdown",
   "metadata": {
    "id": "Im936VVi_Zcu"
   },
   "source": [
    "### Hipótesis: comparar el comportamiento del usuario o la usuaria en las dos ciudades <a id='activity'></a>"
   ]
  },
  {
   "cell_type": "markdown",
   "metadata": {
    "id": "nwt_MuaL_Zcu"
   },
   "source": [
    "La hipótesis afirma que existen diferencias en la forma en que los usuarios y las usuarias de Springfield y Shelbyville consumen música. Para comprobar esto, usa los datos de tres días de la semana: lunes, miércoles y viernes.\n",
    "\n",
    "* Agrupa a los usuarios y las usuarias por ciudad.\n",
    "* Compara el número de canciones que cada grupo reprodujo el lunes, el miércoles y el viernes.\n"
   ]
  },
  {
   "cell_type": "markdown",
   "metadata": {
    "id": "8Dw_YMmT_Zcu"
   },
   "source": [
    "Realiza cada cálculo por separado.\n",
    "\n",
    "El primer paso es evaluar la actividad del usuario en cada ciudad. Recuerda las etapas dividir-aplicar-combinar de las que hablamos anteriormente en la lección. Tu objetivo ahora es agrupar los datos por ciudad, aplicar el método apropiado para contar durante la etapa de aplicación y luego encontrar la cantidad de canciones reproducidas en cada grupo especificando la columna para obtener el recuento.\n",
    "\n",
    "A continuación se muestra un ejemplo de cómo debería verse el resultado final:\n",
    "`df.groupby(by='....')['column'].method()`Realiza cada cálculo por separado.\n",
    "\n",
    "Para evaluar la actividad de los usuarios y las usuarias en cada ciudad, agrupa los datos por ciudad y encuentra la cantidad de canciones reproducidas en cada grupo.\n",
    "\n"
   ]
  },
  {
   "cell_type": "code",
   "execution_count": 20,
   "metadata": {
    "id": "0_Qs96oh_Zcu"
   },
   "outputs": [
    {
     "data": {
      "text/plain": [
       "city\n",
       "Shelbyville    18512\n",
       "Springfield    42741\n",
       "Name: track, dtype: int64"
      ]
     },
     "execution_count": 20,
     "metadata": {},
     "output_type": "execute_result"
    }
   ],
   "source": [
    "df.groupby(by='city')['track'].count()# Contar las canciones reproducidas en cada ciudad\n"
   ]
  },
  {
   "cell_type": "markdown",
   "metadata": {
    "id": "t_Qx-3NewAnK"
   },
   "source": [
    "`Comenta tus observaciones aquí´ \n",
    "Al agrupar nuestra información por ciudades y realizar el conteo de canciones reproducidas en cada grupo se puede observar que en Springfield los usuarios han reproducido más del doble de canciones que en Shelbyville. "
   ]
  },
  {
   "cell_type": "markdown",
   "metadata": {
    "id": "dzli3w8o_Zcu"
   },
   "source": [
    "Ahora agrupemos los datos por día de la semana y encontremos el número de canciones reproducidas el lunes, miércoles y viernes. Utiliza el mismo método que antes, pero ahora necesitamos una agrupación diferente.\n"
   ]
  },
  {
   "cell_type": "code",
   "execution_count": 21,
   "metadata": {
    "id": "uZMKjiJz_Zcu"
   },
   "outputs": [
    {
     "data": {
      "text/plain": [
       "day\n",
       "Friday       21840\n",
       "Monday       21354\n",
       "Wednesday    18059\n",
       "Name: track, dtype: int64"
      ]
     },
     "execution_count": 21,
     "metadata": {},
     "output_type": "execute_result"
    }
   ],
   "source": [
    "df.groupby(by= 'day')['track'].count()# Calcular las canciones reproducidas en cada uno de los tres días\n"
   ]
  },
  {
   "cell_type": "markdown",
   "metadata": {
    "id": "cC2tNrlL_Zcu"
   },
   "source": [
    "`Comenta tus observaciones aquí`Se realizó la agrupación por días para conocer el número de canciones reproducidas en estos, se obtuvieron los días lunes, miércoles y viernes. Se puede apreciar que el día en que menos se reproducen canciones es el miércoles, mientras que en viernes es cuando más se realizan reproducciones. \n",
    "Entre viernes y lunes hay una diferencia de 486 reproducciones, no es una diferencia significativa, a comparación del miércoles, donde la diferencia de canciones es de más de 2900 canciones para los otros dos días. "
   ]
  },
  {
   "cell_type": "markdown",
   "metadata": {
    "id": "POzs8bGa_Zcu"
   },
   "source": [
    "Ya sabes cómo contar entradas agrupándolas por ciudad o día. Ahora necesitas escribir una función que pueda contar entradas según ambos criterios simultáneamente.\n",
    "\n",
    "Crea la función `number_tracks()` para calcular el número de canciones reproducidas en un determinado día **y** ciudad. La función debe aceptar dos parámetros:\n",
    "\n",
    "- `day`: un día de la semana para filtrar. Por ejemplo, `'Monday'` (lunes).\n",
    "- `city`: una ciudad para filtrar. Por ejemplo, `'Springfield'`.\n",
    "\n",
    "Dentro de la función, aplicarás un filtrado consecutivo con indexación lógica.\n",
    "\n",
    "Primero filtra los datos por día y luego filtra la tabla resultante por ciudad.\n",
    "\n",
    "Después de filtrar los datos por dos criterios, cuenta el número de valores de la columna 'user_id' en la tabla resultante. Este recuento representa el número de entradas que estás buscando. Guarda el resultado en una nueva variable y devuélvelo desde la función."
   ]
  },
  {
   "cell_type": "code",
   "execution_count": 75,
   "metadata": {
    "id": "Nz3GdQB1_Zcu"
   },
   "outputs": [],
   "source": [
    "def number_tracks (day,city):# Declara la función number_tracks() con dos parámetros: day= y city=.\n",
    "    \n",
    "    df_filter = df[df['day'] == day]# Almacena las filas del DataFrame donde el valor en la columna 'day' es igual al parámetro day=\n",
    "    df_filter = df_filter[df_filter['city'] == city]# Filtra las filas donde el valor en la columna 'city' es igual al parámetro city=\n",
    "    # Extrae la columna 'user_id' de la tabla filtrada y aplica el método count()\n",
    "    \n",
    "    return df_filter['user_id'].count() # Devolve el número de valores de la columna 'user_id'\n",
    "            "
   ]
  },
  {
   "cell_type": "markdown",
   "metadata": {},
   "source": [
    "<div class=\"alert alert-block alert-success\">\n",
    "<b>Comentario del revisor</b> <a class=\"tocSkip\"></a>\n",
    "\n",
    "Realizaste un gran trabajo con la definición de la función. Como pudiste notar, el desarrollar funciones nos permiten encapsular lógica reutilizable, evitando la repetición de código y facilitando su uso en diferentes partes de un programa o en distintos proyectos.</div>"
   ]
  },
  {
   "cell_type": "markdown",
   "metadata": {
    "id": "ytf7xFrFJQ2r"
   },
   "source": [
    "Llama a `number_tracks()` seis veces, cambiando los valores de los parámetros para que recuperes los datos de ambas ciudades para cada uno de los tres días."
   ]
  },
  {
   "cell_type": "code",
   "execution_count": 76,
   "metadata": {
    "id": "rJcRATNQ_Zcu"
   },
   "outputs": [
    {
     "data": {
      "text/plain": [
       "15740"
      ]
     },
     "execution_count": 76,
     "metadata": {},
     "output_type": "execute_result"
    }
   ],
   "source": [
    "number_tracks('Monday','Springfield')# El número de canciones reproducidas en Springfield el lunes\n"
   ]
  },
  {
   "cell_type": "code",
   "execution_count": 77,
   "metadata": {
    "id": "hq_ncZ5T_Zcu"
   },
   "outputs": [
    {
     "data": {
      "text/plain": [
       "5614"
      ]
     },
     "execution_count": 77,
     "metadata": {},
     "output_type": "execute_result"
    }
   ],
   "source": [
    "number_tracks('Monday','Shelbyville')# El número de canciones reproducidas en Shelbyville el lunes\n"
   ]
  },
  {
   "cell_type": "code",
   "execution_count": 78,
   "metadata": {
    "id": "_NTy2VPU_Zcu"
   },
   "outputs": [
    {
     "data": {
      "text/plain": [
       "11056"
      ]
     },
     "execution_count": 78,
     "metadata": {},
     "output_type": "execute_result"
    }
   ],
   "source": [
    "number_tracks('Wednesday','Springfield')# El número de canciones reproducidas en Springfield el miércoles\n"
   ]
  },
  {
   "cell_type": "code",
   "execution_count": 82,
   "metadata": {
    "id": "j2y3TAwo_Zcu"
   },
   "outputs": [
    {
     "data": {
      "text/plain": [
       "7003"
      ]
     },
     "execution_count": 82,
     "metadata": {},
     "output_type": "execute_result"
    }
   ],
   "source": [
    "number_tracks('Wednesday','Shelbyville')# El número de canciones reproducidas en Shelbyville el miércoles\n"
   ]
  },
  {
   "cell_type": "code",
   "execution_count": 80,
   "metadata": {
    "id": "vYDw5u_K_Zcu"
   },
   "outputs": [
    {
     "data": {
      "text/plain": [
       "15945"
      ]
     },
     "execution_count": 80,
     "metadata": {},
     "output_type": "execute_result"
    }
   ],
   "source": [
    "number_tracks('Friday','Springfield')# El número de canciones reproducidas en Springfield el viernes\n"
   ]
  },
  {
   "cell_type": "code",
   "execution_count": 81,
   "metadata": {
    "id": "8_yzFtW3_Zcu"
   },
   "outputs": [
    {
     "data": {
      "text/plain": [
       "5895"
      ]
     },
     "execution_count": 81,
     "metadata": {},
     "output_type": "execute_result"
    }
   ],
   "source": [
    "number_tracks('Friday','Shelbyville')# El número de canciones reproducidas en Shelbyville el viernes\n"
   ]
  },
  {
   "cell_type": "markdown",
   "metadata": {},
   "source": [
    "<div class=\"alert alert-block alert-success\">\n",
    "<b>Comentario del revisor</b> <a class=\"tocSkip\"></a>\n",
    "\n",
    "Muy buen trabajo! Desarrollaste de forma correcta el análisis comparativo. Además creaste la función de manera correcta. </div>"
   ]
  },
  {
   "cell_type": "markdown",
   "metadata": {
    "id": "-EgPIHYu_Zcu"
   },
   "source": [
    "**Conclusiones**\n",
    "\n",
    "`Comenta si la hipótesis es correcta o se debe rechazar. Explica tu razonamiento.`\n",
    "La hipotesis anteriormente planteada es correcta, como se puede observar, la actividad de los usarios difiere según el día de la semana, en donde los días viernes es cuando hay mayor actividad, mientras que los miércoles, son los días con menor actividad. En cuanto a la ciudad, hay una notoria diferencia, en Springfield los usuarios escuchan más música que en ciudad de Shelbyville. Por lo que la actividad de los usuarios difiere según el día de la semana **y** dependiendo de la ciudad.  \n"
   ]
  },
  {
   "cell_type": "markdown",
   "metadata": {
    "id": "p7nFQajCVw5B"
   },
   "source": [
    "[Volver a Contenidos](#back)"
   ]
  },
  {
   "cell_type": "markdown",
   "metadata": {
    "id": "ykKQ0N65_Zcv"
   },
   "source": [
    "# Conclusiones <a id='end'></a>"
   ]
  },
  {
   "cell_type": "code",
   "execution_count": 1,
   "metadata": {},
   "outputs": [],
   "source": [
    "import pandas as pd"
   ]
  },
  {
   "cell_type": "code",
   "execution_count": 2,
   "metadata": {},
   "outputs": [],
   "source": [
    "orders= pd.read_csv('/datasets/instacart_orders.csv', sep=';')"
   ]
  },
  {
   "cell_type": "code",
   "execution_count": 4,
   "metadata": {},
   "outputs": [
    {
     "name": "stdout",
     "output_type": "stream",
     "text": [
      "<class 'pandas.core.frame.DataFrame'>\n",
      "RangeIndex: 478967 entries, 0 to 478966\n",
      "Data columns (total 6 columns):\n",
      " #   Column                  Non-Null Count   Dtype  \n",
      "---  ------                  --------------   -----  \n",
      " 0   order_id                478967 non-null  int64  \n",
      " 1   user_id                 478967 non-null  int64  \n",
      " 2   order_number            478967 non-null  int64  \n",
      " 3   order_dow               478967 non-null  int64  \n",
      " 4   order_hour_of_day       478967 non-null  int64  \n",
      " 5   days_since_prior_order  450148 non-null  float64\n",
      "dtypes: float64(1), int64(5)\n",
      "memory usage: 21.9 MB\n"
     ]
    },
    {
     "data": {
      "text/html": [
       "<div>\n",
       "<style scoped>\n",
       "    .dataframe tbody tr th:only-of-type {\n",
       "        vertical-align: middle;\n",
       "    }\n",
       "\n",
       "    .dataframe tbody tr th {\n",
       "        vertical-align: top;\n",
       "    }\n",
       "\n",
       "    .dataframe thead th {\n",
       "        text-align: right;\n",
       "    }\n",
       "</style>\n",
       "<table border=\"1\" class=\"dataframe\">\n",
       "  <thead>\n",
       "    <tr style=\"text-align: right;\">\n",
       "      <th></th>\n",
       "      <th>order_id</th>\n",
       "      <th>user_id</th>\n",
       "      <th>order_number</th>\n",
       "      <th>order_dow</th>\n",
       "      <th>order_hour_of_day</th>\n",
       "      <th>days_since_prior_order</th>\n",
       "    </tr>\n",
       "  </thead>\n",
       "  <tbody>\n",
       "    <tr>\n",
       "      <th>0</th>\n",
       "      <td>1515936</td>\n",
       "      <td>183418</td>\n",
       "      <td>11</td>\n",
       "      <td>6</td>\n",
       "      <td>13</td>\n",
       "      <td>30.0</td>\n",
       "    </tr>\n",
       "    <tr>\n",
       "      <th>1</th>\n",
       "      <td>1690866</td>\n",
       "      <td>163593</td>\n",
       "      <td>5</td>\n",
       "      <td>5</td>\n",
       "      <td>12</td>\n",
       "      <td>9.0</td>\n",
       "    </tr>\n",
       "    <tr>\n",
       "      <th>2</th>\n",
       "      <td>1454967</td>\n",
       "      <td>39980</td>\n",
       "      <td>4</td>\n",
       "      <td>5</td>\n",
       "      <td>19</td>\n",
       "      <td>2.0</td>\n",
       "    </tr>\n",
       "    <tr>\n",
       "      <th>3</th>\n",
       "      <td>1768857</td>\n",
       "      <td>82516</td>\n",
       "      <td>56</td>\n",
       "      <td>0</td>\n",
       "      <td>20</td>\n",
       "      <td>10.0</td>\n",
       "    </tr>\n",
       "    <tr>\n",
       "      <th>4</th>\n",
       "      <td>3007858</td>\n",
       "      <td>196724</td>\n",
       "      <td>2</td>\n",
       "      <td>4</td>\n",
       "      <td>12</td>\n",
       "      <td>17.0</td>\n",
       "    </tr>\n",
       "  </tbody>\n",
       "</table>\n",
       "</div>"
      ],
      "text/plain": [
       "   order_id  user_id  order_number  order_dow  order_hour_of_day  \\\n",
       "0   1515936   183418            11          6                 13   \n",
       "1   1690866   163593             5          5                 12   \n",
       "2   1454967    39980             4          5                 19   \n",
       "3   1768857    82516            56          0                 20   \n",
       "4   3007858   196724             2          4                 12   \n",
       "\n",
       "   days_since_prior_order  \n",
       "0                    30.0  \n",
       "1                     9.0  \n",
       "2                     2.0  \n",
       "3                    10.0  \n",
       "4                    17.0  "
      ]
     },
     "execution_count": 4,
     "metadata": {},
     "output_type": "execute_result"
    }
   ],
   "source": [
    "orders.info()\n",
    "orders.head()"
   ]
  },
  {
   "cell_type": "code",
   "execution_count": 8,
   "metadata": {},
   "outputs": [],
   "source": [
    "orders[\"days_since_prior_order\"]=orders[\"days_since_prior_order\"].astype(\"object\")"
   ]
  },
  {
   "cell_type": "code",
   "execution_count": 12,
   "metadata": {},
   "outputs": [
    {
     "name": "stdout",
     "output_type": "stream",
     "text": [
      "<class 'pandas.core.frame.DataFrame'>\n",
      "RangeIndex: 5 entries, 0 to 4\n",
      "Data columns (total 6 columns):\n",
      " #   Column                  Non-Null Count  Dtype \n",
      "---  ------                  --------------  ----- \n",
      " 0   order_id                5 non-null      int64 \n",
      " 1   user_id                 5 non-null      int64 \n",
      " 2   order_number            5 non-null      int64 \n",
      " 3   order_dow               5 non-null      int64 \n",
      " 4   order_hour_of_day       5 non-null      int64 \n",
      " 5   days_since_prior_order  5 non-null      object\n",
      "dtypes: int64(5), object(1)\n",
      "memory usage: 368.0+ bytes\n"
     ]
    }
   ],
   "source": [
    "orders.head().info()"
   ]
  },
  {
   "cell_type": "code",
   "execution_count": 15,
   "metadata": {},
   "outputs": [
    {
     "data": {
      "text/html": [
       "<div>\n",
       "<style scoped>\n",
       "    .dataframe tbody tr th:only-of-type {\n",
       "        vertical-align: middle;\n",
       "    }\n",
       "\n",
       "    .dataframe tbody tr th {\n",
       "        vertical-align: top;\n",
       "    }\n",
       "\n",
       "    .dataframe thead th {\n",
       "        text-align: right;\n",
       "    }\n",
       "</style>\n",
       "<table border=\"1\" class=\"dataframe\">\n",
       "  <thead>\n",
       "    <tr style=\"text-align: right;\">\n",
       "      <th></th>\n",
       "      <th>order_id</th>\n",
       "      <th>user_id</th>\n",
       "      <th>order_number</th>\n",
       "      <th>order_dow</th>\n",
       "      <th>order_hour_of_day</th>\n",
       "      <th>days_since_prior_order</th>\n",
       "    </tr>\n",
       "  </thead>\n",
       "  <tbody>\n",
       "    <tr>\n",
       "      <th>28</th>\n",
       "      <td>133707</td>\n",
       "      <td>182261</td>\n",
       "      <td>1</td>\n",
       "      <td>3</td>\n",
       "      <td>10</td>\n",
       "      <td>NaN</td>\n",
       "    </tr>\n",
       "    <tr>\n",
       "      <th>96</th>\n",
       "      <td>787445</td>\n",
       "      <td>25685</td>\n",
       "      <td>1</td>\n",
       "      <td>6</td>\n",
       "      <td>18</td>\n",
       "      <td>NaN</td>\n",
       "    </tr>\n",
       "    <tr>\n",
       "      <th>100</th>\n",
       "      <td>294410</td>\n",
       "      <td>111449</td>\n",
       "      <td>1</td>\n",
       "      <td>0</td>\n",
       "      <td>19</td>\n",
       "      <td>NaN</td>\n",
       "    </tr>\n",
       "    <tr>\n",
       "      <th>103</th>\n",
       "      <td>2869915</td>\n",
       "      <td>123958</td>\n",
       "      <td>1</td>\n",
       "      <td>4</td>\n",
       "      <td>16</td>\n",
       "      <td>NaN</td>\n",
       "    </tr>\n",
       "    <tr>\n",
       "      <th>104</th>\n",
       "      <td>2521921</td>\n",
       "      <td>42286</td>\n",
       "      <td>1</td>\n",
       "      <td>3</td>\n",
       "      <td>18</td>\n",
       "      <td>NaN</td>\n",
       "    </tr>\n",
       "    <tr>\n",
       "      <th>...</th>\n",
       "      <td>...</td>\n",
       "      <td>...</td>\n",
       "      <td>...</td>\n",
       "      <td>...</td>\n",
       "      <td>...</td>\n",
       "      <td>...</td>\n",
       "    </tr>\n",
       "    <tr>\n",
       "      <th>478895</th>\n",
       "      <td>2589657</td>\n",
       "      <td>205028</td>\n",
       "      <td>1</td>\n",
       "      <td>0</td>\n",
       "      <td>16</td>\n",
       "      <td>NaN</td>\n",
       "    </tr>\n",
       "    <tr>\n",
       "      <th>478896</th>\n",
       "      <td>2222353</td>\n",
       "      <td>141211</td>\n",
       "      <td>1</td>\n",
       "      <td>2</td>\n",
       "      <td>13</td>\n",
       "      <td>NaN</td>\n",
       "    </tr>\n",
       "    <tr>\n",
       "      <th>478922</th>\n",
       "      <td>2272807</td>\n",
       "      <td>204154</td>\n",
       "      <td>1</td>\n",
       "      <td>1</td>\n",
       "      <td>15</td>\n",
       "      <td>NaN</td>\n",
       "    </tr>\n",
       "    <tr>\n",
       "      <th>478926</th>\n",
       "      <td>2499542</td>\n",
       "      <td>68810</td>\n",
       "      <td>1</td>\n",
       "      <td>4</td>\n",
       "      <td>19</td>\n",
       "      <td>NaN</td>\n",
       "    </tr>\n",
       "    <tr>\n",
       "      <th>478945</th>\n",
       "      <td>1387033</td>\n",
       "      <td>22496</td>\n",
       "      <td>1</td>\n",
       "      <td>5</td>\n",
       "      <td>14</td>\n",
       "      <td>NaN</td>\n",
       "    </tr>\n",
       "  </tbody>\n",
       "</table>\n",
       "<p>28819 rows × 6 columns</p>\n",
       "</div>"
      ],
      "text/plain": [
       "        order_id  user_id  order_number  order_dow  order_hour_of_day  \\\n",
       "28        133707   182261             1          3                 10   \n",
       "96        787445    25685             1          6                 18   \n",
       "100       294410   111449             1          0                 19   \n",
       "103      2869915   123958             1          4                 16   \n",
       "104      2521921    42286             1          3                 18   \n",
       "...          ...      ...           ...        ...                ...   \n",
       "478895   2589657   205028             1          0                 16   \n",
       "478896   2222353   141211             1          2                 13   \n",
       "478922   2272807   204154             1          1                 15   \n",
       "478926   2499542    68810             1          4                 19   \n",
       "478945   1387033    22496             1          5                 14   \n",
       "\n",
       "       days_since_prior_order  \n",
       "28                        NaN  \n",
       "96                        NaN  \n",
       "100                       NaN  \n",
       "103                       NaN  \n",
       "104                       NaN  \n",
       "...                       ...  \n",
       "478895                    NaN  \n",
       "478896                    NaN  \n",
       "478922                    NaN  \n",
       "478926                    NaN  \n",
       "478945                    NaN  \n",
       "\n",
       "[28819 rows x 6 columns]"
      ]
     },
     "execution_count": 15,
     "metadata": {},
     "output_type": "execute_result"
    }
   ],
   "source": [
    "orders[orders[\"days_since_prior_order\"].isna()]"
   ]
  },
  {
   "cell_type": "markdown",
   "metadata": {
    "id": "tjUwbHb3_Zcv"
   },
   "source": [
    "`Resume aquí tus conclusiones sobre la hipótesis.` Se puden ver claramente las diferencias de la actividad de los usarios tanto en las varientes del día de la semana, así como en la ciudad en la que se encuentran. Al comparar entre las ciudades Shelbyville y Sprinfield, los usuarios de esta ultima ciudad son evidentemente más activos que de la otra, sin importar el día de la semana que sea. De la misma manera, se puede notar que el día con mayor actividad es el viernes mientras que el día con menor actividad es el miércoles, para ambas ciudades. "
   ]
  },
  {
   "cell_type": "markdown",
   "metadata": {
    "id": "azLHu64yOIp7"
   },
   "source": [
    "### Nota\n",
    "En proyectos de investigación reales, la prueba de hipótesis estadística es más precisa y cuantitativa. También ten en cuenta que no siempre se pueden sacar conclusiones sobre una ciudad entera a partir de datos de una sola fuente.\n",
    "\n",
    "Aprenderás más sobre la prueba de hipótesis en el sprint de análisis estadístico de datos."
   ]
  },
  {
   "cell_type": "markdown",
   "metadata": {},
   "source": [
    "<div class=\"alert alert-block alert-success\">\n",
    "<b>Comentario general</b> <a class=\"tocSkip\"></a>\n",
    "\n",
    "Karina,  hiciste un muy buen trabajo con el proyecto, pudiste resolver casi todos los ejericios de una forma adecuada y se nota que hiciste uso de todas las herramientas aprendidas. Además, considero que te ayudo para aprender el uso de algunas funciones que te sirvan en los siguientes cursos.Solamente verifica lo de la tabla de contenidos.\n",
    "\n",
    "Exitos en lo que viene, saludos.</div>"
   ]
  },
  {
   "cell_type": "markdown",
   "metadata": {
    "id": "Ju4AHDSgV1FE"
   },
   "source": [
    "[Volver a Contenidos](#back)"
   ]
  }
 ],
 "metadata": {
  "ExecuteTimeLog": [
   {
    "duration": 305,
    "start_time": "2024-06-12T19:22:58.012Z"
   },
   {
    "duration": 456,
    "start_time": "2024-06-12T19:23:10.158Z"
   },
   {
    "duration": 55,
    "start_time": "2024-06-12T19:23:14.261Z"
   },
   {
    "duration": 22,
    "start_time": "2024-06-12T19:23:25.543Z"
   },
   {
    "duration": 6,
    "start_time": "2024-06-12T19:23:39.587Z"
   },
   {
    "duration": 193,
    "start_time": "2024-06-12T19:24:50.268Z"
   },
   {
    "duration": 156,
    "start_time": "2024-06-12T19:24:53.778Z"
   },
   {
    "duration": 10,
    "start_time": "2024-06-12T19:25:16.399Z"
   },
   {
    "duration": 33,
    "start_time": "2024-06-12T19:26:01.651Z"
   },
   {
    "duration": 4,
    "start_time": "2024-06-12T20:53:40.539Z"
   },
   {
    "duration": 5,
    "start_time": "2024-06-12T21:58:46.224Z"
   },
   {
    "duration": 6,
    "start_time": "2024-06-12T21:58:55.022Z"
   },
   {
    "duration": 10,
    "start_time": "2024-06-12T21:59:13.431Z"
   },
   {
    "duration": 6,
    "start_time": "2024-06-12T22:03:19.333Z"
   },
   {
    "duration": 837,
    "start_time": "2024-06-12T22:05:12.517Z"
   },
   {
    "duration": 42,
    "start_time": "2024-06-12T22:07:17.968Z"
   },
   {
    "duration": 46,
    "start_time": "2024-06-12T22:07:33.267Z"
   },
   {
    "duration": 7,
    "start_time": "2024-06-12T22:09:40.258Z"
   },
   {
    "duration": 785,
    "start_time": "2024-06-12T22:09:46.917Z"
   },
   {
    "duration": 5,
    "start_time": "2024-06-12T22:10:43.533Z"
   },
   {
    "duration": 43,
    "start_time": "2024-06-12T22:10:49.420Z"
   },
   {
    "duration": 49,
    "start_time": "2024-06-12T22:12:05.447Z"
   },
   {
    "duration": 22,
    "start_time": "2024-06-12T22:12:39.409Z"
   },
   {
    "duration": 7,
    "start_time": "2024-06-12T22:25:35.396Z"
   },
   {
    "duration": 15,
    "start_time": "2024-06-12T22:25:51.413Z"
   },
   {
    "duration": 25,
    "start_time": "2024-06-12T22:26:04.107Z"
   },
   {
    "duration": 4,
    "start_time": "2024-06-12T22:26:32.064Z"
   },
   {
    "duration": 23,
    "start_time": "2024-06-12T22:26:56.831Z"
   },
   {
    "duration": 15,
    "start_time": "2024-06-12T22:27:09.276Z"
   },
   {
    "duration": 26,
    "start_time": "2024-06-12T22:27:21.319Z"
   },
   {
    "duration": 12,
    "start_time": "2024-06-12T22:27:44.121Z"
   },
   {
    "duration": 5,
    "start_time": "2024-06-12T22:27:48.529Z"
   },
   {
    "duration": 313,
    "start_time": "2024-06-13T16:48:18.454Z"
   },
   {
    "duration": 21,
    "start_time": "2024-06-13T16:48:38.255Z"
   },
   {
    "duration": 21,
    "start_time": "2024-06-13T16:48:43.620Z"
   },
   {
    "duration": 20,
    "start_time": "2024-06-13T16:50:35.380Z"
   },
   {
    "duration": 29,
    "start_time": "2024-06-13T16:51:19.966Z"
   },
   {
    "duration": 461,
    "start_time": "2024-06-13T16:58:01.431Z"
   },
   {
    "duration": 184,
    "start_time": "2024-06-13T16:58:04.238Z"
   },
   {
    "duration": 11,
    "start_time": "2024-06-13T16:58:11.416Z"
   },
   {
    "duration": 33,
    "start_time": "2024-06-13T16:58:14.907Z"
   },
   {
    "duration": 10,
    "start_time": "2024-06-13T16:58:20.247Z"
   },
   {
    "duration": 5,
    "start_time": "2024-06-13T16:58:30.005Z"
   },
   {
    "duration": 11,
    "start_time": "2024-06-13T16:58:33.723Z"
   },
   {
    "duration": 4,
    "start_time": "2024-06-13T16:58:38.988Z"
   },
   {
    "duration": 67,
    "start_time": "2024-06-13T17:14:10.995Z"
   },
   {
    "duration": 25,
    "start_time": "2024-06-13T17:14:26.593Z"
   },
   {
    "duration": 16,
    "start_time": "2024-06-13T17:28:52.290Z"
   },
   {
    "duration": 25,
    "start_time": "2024-06-13T17:30:01.857Z"
   },
   {
    "duration": 32,
    "start_time": "2024-06-13T17:30:15.844Z"
   },
   {
    "duration": 34,
    "start_time": "2024-06-13T17:30:24.306Z"
   },
   {
    "duration": 95,
    "start_time": "2024-06-13T17:45:31.362Z"
   },
   {
    "duration": 20,
    "start_time": "2024-06-13T17:53:32.436Z"
   },
   {
    "duration": 84,
    "start_time": "2024-06-13T17:53:58.185Z"
   },
   {
    "duration": 12,
    "start_time": "2024-06-13T17:54:19.337Z"
   },
   {
    "duration": 21,
    "start_time": "2024-06-13T17:54:43.181Z"
   },
   {
    "duration": 71,
    "start_time": "2024-06-13T17:54:48.218Z"
   },
   {
    "duration": 67,
    "start_time": "2024-06-13T17:55:39.098Z"
   },
   {
    "duration": 66,
    "start_time": "2024-06-13T17:55:52.022Z"
   },
   {
    "duration": 10,
    "start_time": "2024-06-13T18:00:40.558Z"
   },
   {
    "duration": 9,
    "start_time": "2024-06-13T18:01:59.693Z"
   },
   {
    "duration": 9,
    "start_time": "2024-06-13T18:02:48.042Z"
   },
   {
    "duration": 10,
    "start_time": "2024-06-13T18:02:56.406Z"
   },
   {
    "duration": 28,
    "start_time": "2024-06-13T18:03:03.453Z"
   },
   {
    "duration": 32,
    "start_time": "2024-06-13T18:09:32.074Z"
   },
   {
    "duration": 25,
    "start_time": "2024-06-13T18:09:40.741Z"
   },
   {
    "duration": 10,
    "start_time": "2024-06-13T18:09:49.167Z"
   },
   {
    "duration": 10,
    "start_time": "2024-06-13T18:09:57.767Z"
   },
   {
    "duration": 5,
    "start_time": "2024-06-13T18:24:24.860Z"
   },
   {
    "duration": 26,
    "start_time": "2024-06-13T18:26:01.526Z"
   },
   {
    "duration": 5,
    "start_time": "2024-06-13T18:26:11.577Z"
   },
   {
    "duration": 30,
    "start_time": "2024-06-13T18:26:16.079Z"
   },
   {
    "duration": 18,
    "start_time": "2024-06-13T18:26:24.063Z"
   },
   {
    "duration": 16,
    "start_time": "2024-06-13T18:27:58.071Z"
   },
   {
    "duration": 18,
    "start_time": "2024-06-13T18:28:12.635Z"
   },
   {
    "duration": 13,
    "start_time": "2024-06-13T18:28:29.331Z"
   },
   {
    "duration": 16,
    "start_time": "2024-06-13T18:28:39.122Z"
   },
   {
    "duration": 13,
    "start_time": "2024-06-13T18:28:42.782Z"
   },
   {
    "duration": 20,
    "start_time": "2024-06-13T18:36:42.003Z"
   },
   {
    "duration": 59,
    "start_time": "2024-06-13T18:37:22.173Z"
   },
   {
    "duration": 5,
    "start_time": "2024-06-13T18:37:59.422Z"
   },
   {
    "duration": 14,
    "start_time": "2024-06-13T18:39:55.607Z"
   },
   {
    "duration": 59,
    "start_time": "2024-06-13T18:40:00.032Z"
   },
   {
    "duration": 59,
    "start_time": "2024-06-13T18:41:32.266Z"
   },
   {
    "duration": 4,
    "start_time": "2024-06-13T18:42:19.582Z"
   },
   {
    "duration": 181,
    "start_time": "2024-06-13T18:42:19.596Z"
   },
   {
    "duration": 10,
    "start_time": "2024-06-13T18:42:19.781Z"
   },
   {
    "duration": 57,
    "start_time": "2024-06-13T18:42:19.795Z"
   },
   {
    "duration": 12,
    "start_time": "2024-06-13T18:42:19.855Z"
   },
   {
    "duration": 6,
    "start_time": "2024-06-13T18:42:19.874Z"
   },
   {
    "duration": 45,
    "start_time": "2024-06-13T18:42:19.884Z"
   },
   {
    "duration": 11,
    "start_time": "2024-06-13T18:42:19.932Z"
   },
   {
    "duration": 6,
    "start_time": "2024-06-13T18:42:19.947Z"
   },
   {
    "duration": 80,
    "start_time": "2024-06-13T18:42:19.957Z"
   },
   {
    "duration": 21,
    "start_time": "2024-06-13T18:42:20.041Z"
   },
   {
    "duration": 61,
    "start_time": "2024-06-13T18:42:20.066Z"
   },
   {
    "duration": 117,
    "start_time": "2024-06-13T18:42:20.131Z"
   },
   {
    "duration": 110,
    "start_time": "2024-06-13T18:42:20.251Z"
   },
   {
    "duration": 88,
    "start_time": "2024-06-13T18:42:20.368Z"
   },
   {
    "duration": 76,
    "start_time": "2024-06-13T18:42:20.459Z"
   },
   {
    "duration": 6,
    "start_time": "2024-06-13T18:42:20.538Z"
   },
   {
    "duration": 20,
    "start_time": "2024-06-13T18:42:20.548Z"
   },
   {
    "duration": 99,
    "start_time": "2024-06-13T18:42:20.571Z"
   },
   {
    "duration": 12,
    "start_time": "2024-06-13T19:06:29.736Z"
   },
   {
    "duration": 22,
    "start_time": "2024-06-13T19:07:16.422Z"
   },
   {
    "duration": 724,
    "start_time": "2024-06-13T20:03:11.215Z"
   },
   {
    "duration": 20,
    "start_time": "2024-06-13T20:43:20.737Z"
   },
   {
    "duration": 14,
    "start_time": "2024-06-13T20:49:36.980Z"
   },
   {
    "duration": 18,
    "start_time": "2024-06-13T20:49:48.923Z"
   },
   {
    "duration": 16,
    "start_time": "2024-06-13T20:51:13.323Z"
   },
   {
    "duration": 16,
    "start_time": "2024-06-13T20:52:21.785Z"
   },
   {
    "duration": 32,
    "start_time": "2024-06-13T20:52:46.144Z"
   },
   {
    "duration": 30,
    "start_time": "2024-06-13T20:52:54.347Z"
   },
   {
    "duration": 24,
    "start_time": "2024-06-13T20:53:01.293Z"
   },
   {
    "duration": 26,
    "start_time": "2024-06-13T20:53:09.876Z"
   },
   {
    "duration": 883,
    "start_time": "2024-06-13T21:00:18.890Z"
   },
   {
    "duration": 6,
    "start_time": "2024-06-13T21:03:10.837Z"
   },
   {
    "duration": 15,
    "start_time": "2024-06-13T21:03:15.061Z"
   },
   {
    "duration": 16,
    "start_time": "2024-06-13T21:03:23.332Z"
   },
   {
    "duration": 14,
    "start_time": "2024-06-14T02:57:55.816Z"
   },
   {
    "duration": 458,
    "start_time": "2024-06-14T17:26:46.338Z"
   },
   {
    "duration": 201,
    "start_time": "2024-06-14T17:26:46.800Z"
   },
   {
    "duration": 10,
    "start_time": "2024-06-14T17:26:47.004Z"
   },
   {
    "duration": 32,
    "start_time": "2024-06-14T17:26:47.027Z"
   },
   {
    "duration": 5,
    "start_time": "2024-06-14T17:26:47.065Z"
   },
   {
    "duration": 6,
    "start_time": "2024-06-14T17:26:47.072Z"
   },
   {
    "duration": 3,
    "start_time": "2024-06-14T17:26:47.081Z"
   },
   {
    "duration": 11,
    "start_time": "2024-06-14T17:26:47.128Z"
   },
   {
    "duration": 5,
    "start_time": "2024-06-14T17:26:47.145Z"
   },
   {
    "duration": 29,
    "start_time": "2024-06-14T17:26:47.152Z"
   },
   {
    "duration": 45,
    "start_time": "2024-06-14T17:26:47.183Z"
   },
   {
    "duration": 25,
    "start_time": "2024-06-14T17:26:47.231Z"
   },
   {
    "duration": 101,
    "start_time": "2024-06-14T17:26:47.260Z"
   },
   {
    "duration": 90,
    "start_time": "2024-06-14T17:26:47.367Z"
   },
   {
    "duration": 93,
    "start_time": "2024-06-14T17:26:47.460Z"
   },
   {
    "duration": 70,
    "start_time": "2024-06-14T17:26:47.556Z"
   },
   {
    "duration": 8,
    "start_time": "2024-06-14T17:26:47.630Z"
   },
   {
    "duration": 12,
    "start_time": "2024-06-14T17:26:47.642Z"
   },
   {
    "duration": 93,
    "start_time": "2024-06-14T17:26:47.657Z"
   },
   {
    "duration": 20,
    "start_time": "2024-06-14T17:26:47.753Z"
   },
   {
    "duration": 18,
    "start_time": "2024-06-14T17:26:47.775Z"
   },
   {
    "duration": 37,
    "start_time": "2024-06-14T17:26:47.795Z"
   },
   {
    "duration": 0,
    "start_time": "2024-06-14T17:26:47.835Z"
   },
   {
    "duration": 0,
    "start_time": "2024-06-14T17:26:47.837Z"
   },
   {
    "duration": 0,
    "start_time": "2024-06-14T17:26:47.843Z"
   },
   {
    "duration": 0,
    "start_time": "2024-06-14T17:26:47.845Z"
   },
   {
    "duration": 0,
    "start_time": "2024-06-14T17:26:47.847Z"
   },
   {
    "duration": 0,
    "start_time": "2024-06-14T17:26:47.849Z"
   },
   {
    "duration": 8,
    "start_time": "2024-06-14T17:29:19.497Z"
   },
   {
    "duration": 7,
    "start_time": "2024-06-14T17:29:23.581Z"
   },
   {
    "duration": 8,
    "start_time": "2024-06-14T17:29:46.426Z"
   },
   {
    "duration": 6,
    "start_time": "2024-06-14T17:30:00.789Z"
   },
   {
    "duration": 6,
    "start_time": "2024-06-14T17:30:07.388Z"
   },
   {
    "duration": 8,
    "start_time": "2024-06-14T17:34:17.917Z"
   },
   {
    "duration": 16,
    "start_time": "2024-06-14T17:36:58.602Z"
   },
   {
    "duration": 31,
    "start_time": "2024-06-14T17:37:10.590Z"
   },
   {
    "duration": 32,
    "start_time": "2024-06-14T17:37:31.027Z"
   },
   {
    "duration": 28,
    "start_time": "2024-06-14T17:37:38.899Z"
   },
   {
    "duration": 7,
    "start_time": "2024-06-14T17:44:46.212Z"
   },
   {
    "duration": 6,
    "start_time": "2024-06-14T18:30:20.759Z"
   },
   {
    "duration": 4,
    "start_time": "2024-06-14T18:30:25.913Z"
   },
   {
    "duration": 5,
    "start_time": "2024-06-14T18:32:01.418Z"
   },
   {
    "duration": 29,
    "start_time": "2024-06-14T18:32:18.577Z"
   },
   {
    "duration": 27,
    "start_time": "2024-06-14T18:33:48.138Z"
   },
   {
    "duration": 29,
    "start_time": "2024-06-14T18:34:02.634Z"
   },
   {
    "duration": 22,
    "start_time": "2024-06-14T18:34:23.060Z"
   },
   {
    "duration": 47,
    "start_time": "2024-06-14T18:34:29.782Z"
   },
   {
    "duration": 28,
    "start_time": "2024-06-14T18:34:37.018Z"
   },
   {
    "duration": 5,
    "start_time": "2024-06-14T18:38:27.785Z"
   },
   {
    "duration": 351,
    "start_time": "2024-06-14T18:38:34.547Z"
   },
   {
    "duration": 5,
    "start_time": "2024-06-14T18:39:05.740Z"
   },
   {
    "duration": 29,
    "start_time": "2024-06-14T18:39:08.830Z"
   },
   {
    "duration": 5,
    "start_time": "2024-06-14T18:50:34.719Z"
   },
   {
    "duration": 5,
    "start_time": "2024-06-14T18:50:47.484Z"
   },
   {
    "duration": 31,
    "start_time": "2024-06-14T18:50:50.589Z"
   },
   {
    "duration": 26,
    "start_time": "2024-06-14T18:50:52.311Z"
   },
   {
    "duration": 5,
    "start_time": "2024-06-14T18:51:08.518Z"
   },
   {
    "duration": 44,
    "start_time": "2024-06-14T18:51:13.243Z"
   },
   {
    "duration": 4,
    "start_time": "2024-06-14T18:51:21.608Z"
   },
   {
    "duration": 685,
    "start_time": "2024-06-14T18:51:23.620Z"
   },
   {
    "duration": 14,
    "start_time": "2024-06-14T18:51:37.511Z"
   },
   {
    "duration": 28,
    "start_time": "2024-06-14T18:51:42.121Z"
   },
   {
    "duration": 29,
    "start_time": "2024-06-14T18:51:47.730Z"
   },
   {
    "duration": 28,
    "start_time": "2024-06-14T18:51:50.607Z"
   },
   {
    "duration": 19,
    "start_time": "2024-06-14T18:51:53.491Z"
   },
   {
    "duration": 31,
    "start_time": "2024-06-14T18:51:56.587Z"
   },
   {
    "duration": 25,
    "start_time": "2024-06-14T18:52:05.897Z"
   },
   {
    "duration": 5,
    "start_time": "2024-06-14T18:52:44.124Z"
   },
   {
    "duration": 687,
    "start_time": "2024-06-14T18:52:45.394Z"
   },
   {
    "duration": 4,
    "start_time": "2024-06-14T18:53:00.082Z"
   },
   {
    "duration": 5,
    "start_time": "2024-06-14T18:53:04.106Z"
   },
   {
    "duration": 151,
    "start_time": "2024-06-14T18:53:07.205Z"
   },
   {
    "duration": 5,
    "start_time": "2024-06-14T18:53:11.995Z"
   },
   {
    "duration": 28,
    "start_time": "2024-06-14T18:53:18.143Z"
   },
   {
    "duration": 5,
    "start_time": "2024-06-14T18:53:52.464Z"
   },
   {
    "duration": 45,
    "start_time": "2024-06-14T18:53:55.514Z"
   },
   {
    "duration": 42,
    "start_time": "2024-06-14T18:54:31.940Z"
   },
   {
    "duration": 45,
    "start_time": "2024-06-14T18:54:34.835Z"
   },
   {
    "duration": 47,
    "start_time": "2024-06-14T18:54:37.903Z"
   },
   {
    "duration": 5,
    "start_time": "2024-06-14T18:56:07.882Z"
   },
   {
    "duration": 23,
    "start_time": "2024-06-14T18:56:11.491Z"
   },
   {
    "duration": 22,
    "start_time": "2024-06-14T18:56:13.991Z"
   },
   {
    "duration": 21,
    "start_time": "2024-06-14T18:56:16.939Z"
   },
   {
    "duration": 14,
    "start_time": "2024-06-14T18:56:19.840Z"
   },
   {
    "duration": 23,
    "start_time": "2024-06-14T18:56:22.809Z"
   },
   {
    "duration": 21,
    "start_time": "2024-06-14T18:56:26.053Z"
   },
   {
    "duration": 18,
    "start_time": "2024-06-14T19:07:25.126Z"
   },
   {
    "duration": 428,
    "start_time": "2024-07-11T17:20:46.591Z"
   },
   {
    "duration": 197,
    "start_time": "2024-07-11T17:20:53.673Z"
   },
   {
    "duration": 19,
    "start_time": "2024-07-11T17:21:03.725Z"
   },
   {
    "duration": 29,
    "start_time": "2024-07-11T17:21:45.675Z"
   },
   {
    "duration": 27,
    "start_time": "2024-07-11T17:23:24.363Z"
   },
   {
    "duration": 14,
    "start_time": "2024-07-11T17:23:45.722Z"
   },
   {
    "duration": 14,
    "start_time": "2024-07-11T17:24:00.851Z"
   },
   {
    "duration": 32,
    "start_time": "2024-07-11T17:24:34.530Z"
   },
   {
    "duration": 14,
    "start_time": "2024-07-11T17:24:38.652Z"
   },
   {
    "duration": 32,
    "start_time": "2024-07-11T17:24:45.746Z"
   },
   {
    "duration": 7,
    "start_time": "2024-07-11T17:25:31.454Z"
   },
   {
    "duration": 20,
    "start_time": "2024-07-11T17:25:37.989Z"
   },
   {
    "duration": 1459,
    "start_time": "2024-07-11T17:26:14.191Z"
   },
   {
    "duration": 24,
    "start_time": "2024-07-11T17:27:31.914Z"
   },
   {
    "duration": 43,
    "start_time": "2024-07-11T17:28:05.656Z"
   }
  ],
  "colab": {
   "collapsed_sections": [
    "E0vqbgi9ay0H",
    "VUC88oWjTJw2"
   ],
   "provenance": []
  },
  "kernelspec": {
   "display_name": "Python 3 (ipykernel)",
   "language": "python",
   "name": "python3"
  },
  "language_info": {
   "codemirror_mode": {
    "name": "ipython",
    "version": 3
   },
   "file_extension": ".py",
   "mimetype": "text/x-python",
   "name": "python",
   "nbconvert_exporter": "python",
   "pygments_lexer": "ipython3",
   "version": "3.9.19"
  },
  "toc": {
   "base_numbering": 1,
   "nav_menu": {},
   "number_sections": true,
   "sideBar": true,
   "skip_h1_title": true,
   "title_cell": "Table of Contents",
   "title_sidebar": "Contents",
   "toc_cell": false,
   "toc_position": {},
   "toc_section_display": true,
   "toc_window_display": false
  }
 },
 "nbformat": 4,
 "nbformat_minor": 1
}
